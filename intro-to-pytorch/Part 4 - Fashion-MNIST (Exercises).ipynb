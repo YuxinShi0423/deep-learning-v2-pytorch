{
 "cells": [
  {
   "cell_type": "markdown",
   "metadata": {},
   "source": [
    "# Classifying Fashion-MNIST\n",
    "\n",
    "Now it's your turn to build and train a neural network. You'll be using the [Fashion-MNIST dataset](https://github.com/zalandoresearch/fashion-mnist), a drop-in replacement for the MNIST dataset. MNIST is actually quite trivial with neural networks where you can easily achieve better than 97% accuracy. Fashion-MNIST is a set of 28x28 greyscale images of clothes. It's more complex than MNIST, so it's a better representation of the actual performance of your network, and a better representation of datasets you'll use in the real world.\n",
    "\n",
    "<img src='assets/fashion-mnist-sprite.png' width=500px>\n",
    "\n",
    "In this notebook, you'll build your own neural network. For the most part, you could just copy and paste the code from Part 3, but you wouldn't be learning. It's important for you to write the code yourself and get it to work. Feel free to consult the previous notebooks though as you work through this.\n",
    "\n",
    "First off, let's load the dataset through torchvision."
   ]
  },
  {
   "cell_type": "code",
   "execution_count": 1,
   "metadata": {},
   "outputs": [
    {
     "name": "stdout",
     "output_type": "stream",
     "text": [
      "Downloading http://fashion-mnist.s3-website.eu-central-1.amazonaws.com/train-images-idx3-ubyte.gz to C:\\Users\\yuxinshi/.pytorch/F_MNIST_data/FashionMNIST\\raw\\train-images-idx3-ubyte.gz\n"
     ]
    },
    {
     "name": "stderr",
     "output_type": "stream",
     "text": [
      "100.0%"
     ]
    },
    {
     "name": "stdout",
     "output_type": "stream",
     "text": [
      "Extracting C:\\Users\\yuxinshi/.pytorch/F_MNIST_data/FashionMNIST\\raw\\train-images-idx3-ubyte.gz to C:\\Users\\yuxinshi/.pytorch/F_MNIST_data/FashionMNIST\\raw\n",
      "Downloading http://fashion-mnist.s3-website.eu-central-1.amazonaws.com/train-labels-idx1-ubyte.gz to C:\\Users\\yuxinshi/.pytorch/F_MNIST_data/FashionMNIST\\raw\\train-labels-idx1-ubyte.gz\n"
     ]
    },
    {
     "name": "stderr",
     "output_type": "stream",
     "text": [
      "111.0%"
     ]
    },
    {
     "name": "stdout",
     "output_type": "stream",
     "text": [
      "Extracting C:\\Users\\yuxinshi/.pytorch/F_MNIST_data/FashionMNIST\\raw\\train-labels-idx1-ubyte.gz to C:\\Users\\yuxinshi/.pytorch/F_MNIST_data/FashionMNIST\\raw\n",
      "Downloading http://fashion-mnist.s3-website.eu-central-1.amazonaws.com/t10k-images-idx3-ubyte.gz to C:\\Users\\yuxinshi/.pytorch/F_MNIST_data/FashionMNIST\\raw\\t10k-images-idx3-ubyte.gz\n"
     ]
    },
    {
     "name": "stderr",
     "output_type": "stream",
     "text": [
      "100.0%"
     ]
    },
    {
     "name": "stdout",
     "output_type": "stream",
     "text": [
      "Extracting C:\\Users\\yuxinshi/.pytorch/F_MNIST_data/FashionMNIST\\raw\\t10k-images-idx3-ubyte.gz to C:\\Users\\yuxinshi/.pytorch/F_MNIST_data/FashionMNIST\\raw\n",
      "Downloading http://fashion-mnist.s3-website.eu-central-1.amazonaws.com/t10k-labels-idx1-ubyte.gz to C:\\Users\\yuxinshi/.pytorch/F_MNIST_data/FashionMNIST\\raw\\t10k-labels-idx1-ubyte.gz\n"
     ]
    },
    {
     "name": "stderr",
     "output_type": "stream",
     "text": [
      "159.1%..\\torch\\csrc\\utils\\tensor_numpy.cpp:141: UserWarning: The given NumPy array is not writeable, and PyTorch does not support non-writeable tensors. This means you can write to the underlying (supposedly non-writeable) NumPy array using the tensor. You may want to copy the array to protect its data or make it writeable before converting it to a tensor. This type of warning will be suppressed for the rest of this program.\n"
     ]
    },
    {
     "name": "stdout",
     "output_type": "stream",
     "text": [
      "Extracting C:\\Users\\yuxinshi/.pytorch/F_MNIST_data/FashionMNIST\\raw\\t10k-labels-idx1-ubyte.gz to C:\\Users\\yuxinshi/.pytorch/F_MNIST_data/FashionMNIST\\raw\n",
      "Processing...\n",
      "Done!\n"
     ]
    }
   ],
   "source": [
    "import torch\n",
    "from torchvision import datasets, transforms\n",
    "import helper\n",
    "\n",
    "# Define a transform to normalize the data\n",
    "transform = transforms.Compose([transforms.ToTensor(),\n",
    "                                transforms.Normalize((0.5,), (0.5,))])\n",
    "# Download and load the training data\n",
    "trainset = datasets.FashionMNIST('~/.pytorch/F_MNIST_data/', download=True, train=True, transform=transform)\n",
    "trainloader = torch.utils.data.DataLoader(trainset, batch_size=64, shuffle=True)\n",
    "\n",
    "# Download and load the test data\n",
    "testset = datasets.FashionMNIST('~/.pytorch/F_MNIST_data/', download=True, train=False, transform=transform)\n",
    "testloader = torch.utils.data.DataLoader(testset, batch_size=64, shuffle=True)"
   ]
  },
  {
   "cell_type": "markdown",
   "metadata": {},
   "source": [
    "Here we can see one of the images."
   ]
  },
  {
   "cell_type": "code",
   "execution_count": 2,
   "metadata": {},
   "outputs": [
    {
     "data": {
      "image/png": "[encoded data removed]",
      "text/plain": [
       "<Figure size 432x288 with 1 Axes>"
      ]
     },
     "metadata": {
      "needs_background": "light"
     },
     "output_type": "display_data"
    }
   ],
   "source": [
    "image, label = next(iter(trainloader))\n",
    "helper.imshow(image[0,:]);"
   ]
  },
  {
   "cell_type": "markdown",
   "metadata": {},
   "source": [
    "## Building the network\n",
    "\n",
    "Here you should define your network. As with MNIST, each image is 28x28 which is a total of 784 pixels, and there are 10 classes. You should include at least one hidden layer. We suggest you use ReLU activations for the layers and to return the logits or log-softmax from the forward pass. It's up to you how many layers you add and the size of those layers."
   ]
  },
  {
   "cell_type": "code",
   "execution_count": 4,
   "metadata": {},
   "outputs": [],
   "source": [
    "# TODO: Define your network architecture here\n",
    "from torch import nn, optim\n",
    "import torch.nn.functional as F"
   ]
  },
  {
   "cell_type": "code",
   "execution_count": 23,
   "metadata": {},
   "outputs": [],
   "source": [
    "class Classifier(nn.Module):\n",
    "    def __init__(self):\n",
    "        super().__init__()\n",
    "\n",
    "        self.fc1 = nn.Linear(784, 256)\n",
    "        self.fc2 = nn.Linear(256, 128)\n",
    "        self.fc3 = nn.Linear(128, 64)\n",
    "        self.fc4 = nn.Linear(64, 10)\n",
    "\n",
    "    def forward(self, x):\n",
    "        x = x.view(x.shape[0], -1)\n",
    "\n",
    "        x = F.relu(self.fc1(x))\n",
    "        x = F.relu(self.fc2(x))\n",
    "        x = F.relu(self.fc3(x))\n",
    "        x = F.log_softmax(self.fc4(x), dim = 1)\n",
    "\n",
    "        return x"
   ]
  },
  {
   "cell_type": "markdown",
   "metadata": {},
   "source": [
    "# Train the network\n",
    "\n",
    "Now you should create your network and train it. First you'll want to define [the criterion](http://pytorch.org/docs/master/nn.html#loss-functions) ( something like `nn.CrossEntropyLoss`) and [the optimizer](http://pytorch.org/docs/master/optim.html) (typically `optim.SGD` or `optim.Adam`).\n",
    "\n",
    "Then write the training code. Remember the training pass is a fairly straightforward process:\n",
    "\n",
    "* Make a forward pass through the network to get the logits \n",
    "* Use the logits to calculate the loss\n",
    "* Perform a backward pass through the network with `loss.backward()` to calculate the gradients\n",
    "* Take a step with the optimizer to update the weights\n",
    "\n",
    "By adjusting the hyperparameters (hidden units, learning rate, etc), you should be able to get the training loss below 0.4."
   ]
  },
  {
   "cell_type": "code",
   "execution_count": 24,
   "metadata": {},
   "outputs": [
    {
     "name": "stdout",
     "output_type": "stream",
     "text": [
      "[Parameter containing:\n",
      "tensor([[-0.0282,  0.0159,  0.0345,  ...,  0.0217, -0.0063, -0.0297],\n",
      "        [-0.0238,  0.0345, -0.0294,  ..., -0.0127,  0.0211, -0.0308],\n",
      "        [-0.0150,  0.0003, -0.0198,  ..., -0.0341, -0.0184,  0.0036],\n",
      "        ...,\n",
      "        [-0.0191, -0.0063, -0.0220,  ..., -0.0073, -0.0348, -0.0242],\n",
      "        [ 0.0029,  0.0050, -0.0220,  ..., -0.0171,  0.0272,  0.0312],\n",
      "        [-0.0222, -0.0215, -0.0261,  ..., -0.0145, -0.0306, -0.0036]],\n",
      "       requires_grad=True), Parameter containing:\n",
      "tensor([ 0.0026,  0.0303, -0.0099,  0.0204, -0.0035, -0.0136, -0.0237,  0.0269,\n",
      "         0.0004,  0.0165,  0.0281, -0.0086, -0.0018, -0.0324,  0.0120,  0.0334,\n",
      "         0.0104, -0.0019, -0.0324, -0.0085,  0.0068,  0.0046, -0.0203,  0.0249,\n",
      "        -0.0270,  0.0184, -0.0233, -0.0253, -0.0086, -0.0159, -0.0034, -0.0232,\n",
      "        -0.0181,  0.0343, -0.0252, -0.0126,  0.0086,  0.0041, -0.0245,  0.0172,\n",
      "        -0.0137,  0.0288,  0.0301, -0.0249,  0.0123,  0.0275, -0.0240, -0.0260,\n",
      "        -0.0327,  0.0067, -0.0002, -0.0134, -0.0092, -0.0219, -0.0312, -0.0062,\n",
      "         0.0093,  0.0275,  0.0173, -0.0178,  0.0035,  0.0017,  0.0021,  0.0002,\n",
      "        -0.0257,  0.0026, -0.0178,  0.0345, -0.0229,  0.0105, -0.0347, -0.0003,\n",
      "         0.0089, -0.0042,  0.0289, -0.0121,  0.0145,  0.0253, -0.0305,  0.0124,\n",
      "         0.0071, -0.0300,  0.0250, -0.0013, -0.0234,  0.0181,  0.0197, -0.0085,\n",
      "        -0.0133, -0.0036,  0.0158,  0.0156, -0.0157, -0.0267,  0.0009, -0.0212,\n",
      "        -0.0297,  0.0346,  0.0345, -0.0039, -0.0221, -0.0149,  0.0063, -0.0345,\n",
      "        -0.0149,  0.0348,  0.0067,  0.0118,  0.0202,  0.0160, -0.0316,  0.0081,\n",
      "         0.0079, -0.0082,  0.0039, -0.0233,  0.0030,  0.0254,  0.0211, -0.0292,\n",
      "         0.0338, -0.0259,  0.0073, -0.0072,  0.0131,  0.0062,  0.0285,  0.0010,\n",
      "         0.0012,  0.0193, -0.0167,  0.0188,  0.0316, -0.0058, -0.0258,  0.0024,\n",
      "         0.0320,  0.0068, -0.0273, -0.0063,  0.0123, -0.0109,  0.0010,  0.0282,\n",
      "         0.0011,  0.0191, -0.0315,  0.0268, -0.0278,  0.0238, -0.0316, -0.0067,\n",
      "        -0.0201,  0.0318, -0.0214,  0.0194,  0.0112, -0.0232,  0.0351,  0.0199,\n",
      "         0.0064,  0.0347, -0.0330,  0.0115,  0.0086, -0.0119,  0.0211, -0.0153,\n",
      "        -0.0297, -0.0333, -0.0237, -0.0344, -0.0332,  0.0124,  0.0336,  0.0050,\n",
      "         0.0348, -0.0196,  0.0116, -0.0026,  0.0128,  0.0356, -0.0196,  0.0169,\n",
      "         0.0074, -0.0240, -0.0238, -0.0054, -0.0266, -0.0328, -0.0303, -0.0232,\n",
      "         0.0127, -0.0332,  0.0329,  0.0004, -0.0169,  0.0217,  0.0336, -0.0072,\n",
      "         0.0187,  0.0241,  0.0017, -0.0068,  0.0250, -0.0185, -0.0074, -0.0118,\n",
      "         0.0287, -0.0238, -0.0108, -0.0040,  0.0174, -0.0052, -0.0089, -0.0070,\n",
      "        -0.0271,  0.0064, -0.0296,  0.0271, -0.0348,  0.0188, -0.0267, -0.0118,\n",
      "        -0.0140,  0.0267, -0.0313, -0.0240, -0.0043, -0.0202, -0.0186,  0.0145,\n",
      "        -0.0209,  0.0113,  0.0328, -0.0040,  0.0088,  0.0166, -0.0178, -0.0120,\n",
      "        -0.0166, -0.0226, -0.0333, -0.0228, -0.0224, -0.0342,  0.0118, -0.0130,\n",
      "        -0.0293, -0.0021, -0.0322, -0.0108,  0.0166, -0.0044, -0.0187, -0.0193],\n",
      "       requires_grad=True), Parameter containing:\n",
      "tensor([[-0.0024, -0.0308, -0.0253,  ..., -0.0612, -0.0276, -0.0356],\n",
      "        [-0.0170,  0.0610, -0.0298,  ..., -0.0014,  0.0186, -0.0002],\n",
      "        [ 0.0203,  0.0057, -0.0152,  ...,  0.0314,  0.0533, -0.0541],\n",
      "        ...,\n",
      "        [-0.0338,  0.0046, -0.0438,  ..., -0.0389,  0.0343, -0.0220],\n",
      "        [ 0.0372,  0.0053, -0.0568,  ..., -0.0196, -0.0164,  0.0197],\n",
      "        [-0.0049, -0.0136,  0.0083,  ...,  0.0275, -0.0363, -0.0335]],\n",
      "       requires_grad=True), Parameter containing:\n",
      "tensor([ 0.0429, -0.0553, -0.0199,  0.0152,  0.0299, -0.0533,  0.0573,  0.0067,\n",
      "         0.0508,  0.0374,  0.0459, -0.0518, -0.0595,  0.0149,  0.0166,  0.0038,\n",
      "        -0.0098,  0.0615,  0.0597, -0.0433,  0.0238,  0.0522,  0.0283,  0.0212,\n",
      "        -0.0591,  0.0194,  0.0518, -0.0115,  0.0128,  0.0094,  0.0424,  0.0068,\n",
      "         0.0090,  0.0395, -0.0587, -0.0088, -0.0567, -0.0002, -0.0226, -0.0448,\n",
      "         0.0071,  0.0615, -0.0485, -0.0423,  0.0465, -0.0084, -0.0248, -0.0537,\n",
      "        -0.0471, -0.0601,  0.0147,  0.0229, -0.0494,  0.0255, -0.0099, -0.0208,\n",
      "        -0.0071, -0.0416,  0.0210, -0.0437,  0.0293, -0.0007,  0.0267, -0.0272,\n",
      "         0.0446, -0.0301, -0.0210, -0.0074, -0.0301,  0.0360,  0.0491,  0.0063,\n",
      "        -0.0285, -0.0251,  0.0187, -0.0509, -0.0089,  0.0565,  0.0157, -0.0600,\n",
      "        -0.0228,  0.0143, -0.0608,  0.0363,  0.0539, -0.0200, -0.0466,  0.0292,\n",
      "         0.0475,  0.0555, -0.0266, -0.0573,  0.0410,  0.0054, -0.0490, -0.0328,\n",
      "        -0.0046,  0.0192,  0.0022, -0.0426,  0.0407,  0.0529,  0.0135,  0.0364,\n",
      "         0.0052,  0.0572, -0.0290, -0.0422, -0.0262, -0.0213, -0.0614, -0.0059,\n",
      "         0.0121, -0.0064,  0.0422,  0.0500, -0.0568,  0.0584,  0.0052,  0.0613,\n",
      "        -0.0244, -0.0082,  0.0487, -0.0611,  0.0091, -0.0350, -0.0488, -0.0584],\n",
      "       requires_grad=True), Parameter containing:\n",
      "tensor([[-0.0192, -0.0067,  0.0817,  ...,  0.0276,  0.0859, -0.0664],\n",
      "        [ 0.0501, -0.0027, -0.0869,  ..., -0.0134, -0.0783,  0.0673],\n",
      "        [-0.0094,  0.0842, -0.0137,  ...,  0.0192,  0.0827, -0.0643],\n",
      "        ...,\n",
      "        [ 0.0533,  0.0746, -0.0028,  ..., -0.0157, -0.0513,  0.0043],\n",
      "        [ 0.0815,  0.0265,  0.0691,  ..., -0.0580, -0.0882,  0.0383],\n",
      "        [-0.0343, -0.0864,  0.0123,  ...,  0.0420, -0.0262,  0.0148]],\n",
      "       requires_grad=True), Parameter containing:\n",
      "tensor([ 0.0058, -0.0590,  0.0500,  0.0332,  0.0006,  0.0734,  0.0697, -0.0835,\n",
      "        -0.0056,  0.0211,  0.0600, -0.0197, -0.0258, -0.0633,  0.0692,  0.0697,\n",
      "        -0.0435, -0.0410, -0.0718, -0.0417,  0.0526,  0.0369,  0.0333, -0.0525,\n",
      "        -0.0266,  0.0818, -0.0740, -0.0182,  0.0341, -0.0285,  0.0788,  0.0703,\n",
      "         0.0214, -0.0561,  0.0671, -0.0534,  0.0648,  0.0274, -0.0247,  0.0790,\n",
      "         0.0439, -0.0671,  0.0213,  0.0455,  0.0860, -0.0635, -0.0751, -0.0697,\n",
      "         0.0676,  0.0702,  0.0218,  0.0700,  0.0449,  0.0466, -0.0653,  0.0175,\n",
      "         0.0195,  0.0631, -0.0804,  0.0005, -0.0827, -0.0262,  0.0520, -0.0052],\n",
      "       requires_grad=True), Parameter containing:\n",
      "tensor([[-0.0207,  0.0650,  0.0347, -0.0187, -0.0356,  0.1135,  0.0450, -0.0284,\n",
      "          0.0226, -0.0663,  0.0362, -0.0798,  0.0684,  0.0781, -0.1081,  0.0447,\n",
      "         -0.0771,  0.0110, -0.1202,  0.1168,  0.0080, -0.0938, -0.0231, -0.0264,\n",
      "          0.0741,  0.1125,  0.0639, -0.0823,  0.0288,  0.0337,  0.0904,  0.0564,\n",
      "         -0.0633, -0.1022,  0.0453,  0.0571,  0.0529, -0.0602, -0.0734, -0.0667,\n",
      "         -0.0543, -0.0054,  0.0095,  0.0618,  0.1174, -0.0606, -0.0267, -0.0890,\n",
      "         -0.0521,  0.0604,  0.0484, -0.0510,  0.0227, -0.0453, -0.0741, -0.0179,\n",
      "         -0.0867, -0.0534,  0.1002, -0.0898, -0.0597,  0.0603, -0.1132,  0.0923],\n",
      "        [ 0.0321,  0.0903, -0.0264, -0.0928, -0.0495,  0.0525, -0.0478, -0.0381,\n",
      "          0.1156, -0.1195,  0.1001, -0.0127, -0.1029,  0.1110, -0.0751,  0.0060,\n",
      "         -0.0098,  0.0302,  0.0790,  0.0852, -0.0544, -0.0736, -0.0356, -0.0281,\n",
      "         -0.0183,  0.0493, -0.0126, -0.0347, -0.0613, -0.0591, -0.0307,  0.0757,\n",
      "         -0.0453,  0.0632, -0.0811,  0.0624,  0.0912, -0.0486, -0.1218,  0.1014,\n",
      "         -0.0062,  0.0731, -0.1246,  0.0628,  0.1219,  0.0352, -0.0634,  0.1147,\n",
      "          0.0207, -0.0013, -0.0739, -0.1029, -0.0965,  0.0621, -0.0592,  0.0163,\n",
      "         -0.1017,  0.0392, -0.0719,  0.1076,  0.0313,  0.0287,  0.0989,  0.0648],\n",
      "        [-0.0559,  0.0963,  0.0484, -0.0431,  0.1098, -0.0709, -0.0216,  0.0096,\n",
      "          0.0535,  0.0197, -0.0433,  0.0038, -0.0455, -0.0134,  0.1108,  0.0971,\n",
      "          0.0923,  0.0819,  0.1108, -0.0762, -0.0004, -0.0714, -0.1237,  0.0652,\n",
      "          0.0038,  0.0640,  0.0050, -0.1130, -0.0588,  0.0588, -0.0547,  0.0353,\n",
      "         -0.1049,  0.0957, -0.0018, -0.0347, -0.1234, -0.1024,  0.0400,  0.0824,\n",
      "         -0.0237, -0.0080, -0.0699, -0.0608,  0.0594, -0.0908, -0.0322,  0.0282,\n",
      "          0.0275, -0.0547, -0.0718, -0.0447,  0.0525, -0.0052,  0.0791,  0.0381,\n",
      "          0.1161, -0.0236, -0.0432, -0.0950,  0.0202,  0.0729,  0.0653, -0.0183],\n",
      "        [ 0.0665, -0.1237, -0.0648, -0.0376, -0.0699,  0.0659,  0.0280, -0.0134,\n",
      "         -0.0116,  0.0894,  0.1029, -0.0099, -0.0164,  0.0648,  0.0478, -0.0206,\n",
      "         -0.0773,  0.0742,  0.0852, -0.0763,  0.0360,  0.0481, -0.0368, -0.0502,\n",
      "         -0.0113, -0.0807, -0.1124, -0.0438, -0.0840,  0.0111, -0.0627, -0.1105,\n",
      "         -0.0226,  0.0535, -0.0696, -0.1215,  0.0935, -0.0630, -0.0284,  0.0483,\n",
      "         -0.1045, -0.0900,  0.0754, -0.0331,  0.0850,  0.0903, -0.0551,  0.0786,\n",
      "          0.0377,  0.0400, -0.0155, -0.0498,  0.1247, -0.0934, -0.0108,  0.0376,\n",
      "          0.0744,  0.0274, -0.0036, -0.0597,  0.0221, -0.0973, -0.0558, -0.0558],\n",
      "        [-0.0901,  0.1158, -0.0508,  0.0922,  0.0431,  0.0084, -0.0354, -0.0587,\n",
      "         -0.0610,  0.0453,  0.0806,  0.0514,  0.0363, -0.0778, -0.0434,  0.0475,\n",
      "         -0.0256,  0.0022, -0.0849, -0.0676, -0.1195, -0.0784, -0.0125, -0.1063,\n",
      "          0.0586,  0.1065,  0.0516, -0.1116, -0.0883, -0.1182,  0.0441, -0.0890,\n",
      "         -0.0619, -0.0188,  0.0978,  0.0889,  0.0443,  0.0487,  0.0937, -0.0002,\n",
      "         -0.0671,  0.1106, -0.0380, -0.0041, -0.0978,  0.0126,  0.0271, -0.0451,\n",
      "          0.1095, -0.0146,  0.0793, -0.1232,  0.1037,  0.0918,  0.0086,  0.0366,\n",
      "          0.0954,  0.1071, -0.0656, -0.0038, -0.0667, -0.0730, -0.0869,  0.0237],\n",
      "        [-0.1107, -0.0004,  0.1152, -0.0597, -0.1088,  0.0469, -0.0702,  0.1181,\n",
      "         -0.0578, -0.0421,  0.0389, -0.0179,  0.0343, -0.0816,  0.0016,  0.1101,\n",
      "          0.0470, -0.1040, -0.0548,  0.0250,  0.0143, -0.0777,  0.0746, -0.0492,\n",
      "         -0.0936, -0.1076, -0.0795, -0.0651, -0.0325,  0.0002, -0.0688, -0.0618,\n",
      "         -0.0105,  0.0712, -0.0684,  0.0972, -0.0271,  0.0127,  0.0236,  0.0608,\n",
      "          0.1120, -0.0776, -0.0186,  0.1031,  0.0188,  0.0022,  0.0263, -0.0788,\n",
      "         -0.0160, -0.1005,  0.1088, -0.1246, -0.0930,  0.0166,  0.0745, -0.0466,\n",
      "         -0.1108,  0.0169, -0.1128,  0.0298, -0.0945,  0.0185,  0.1180,  0.0619],\n",
      "        [ 0.0469,  0.1020, -0.0939,  0.0091, -0.0073, -0.0415, -0.1144,  0.1165,\n",
      "          0.0393,  0.0130, -0.0325, -0.0600,  0.1101,  0.1205,  0.0093,  0.0441,\n",
      "         -0.0151,  0.1056,  0.0674,  0.1063,  0.0542, -0.1003, -0.0336, -0.0125,\n",
      "         -0.0008, -0.0572, -0.0442,  0.0724, -0.0658, -0.1009, -0.0905, -0.0387,\n",
      "         -0.0521,  0.0813,  0.1120,  0.0200,  0.1214, -0.0940, -0.0709, -0.0728,\n",
      "         -0.1164, -0.0905,  0.1048, -0.0929, -0.0484, -0.1028, -0.0610,  0.0966,\n",
      "          0.0790, -0.1026, -0.0207,  0.0928,  0.0420,  0.0823, -0.1008,  0.0292,\n",
      "          0.1209, -0.1219, -0.0822,  0.0292,  0.0104,  0.0894,  0.0216,  0.0519],\n",
      "        [-0.0868, -0.1046,  0.0236,  0.0240,  0.0451, -0.0729, -0.0354,  0.0130,\n",
      "         -0.0657,  0.1214,  0.0227, -0.0089,  0.1010,  0.0091,  0.1139, -0.0426,\n",
      "         -0.0447, -0.0049, -0.0563, -0.0315, -0.0874,  0.0657,  0.0285, -0.0427,\n",
      "         -0.1204, -0.0224, -0.0155,  0.0695, -0.0184, -0.0351,  0.0039,  0.0346,\n",
      "          0.0311,  0.0440,  0.1060,  0.0882,  0.0222,  0.0272, -0.1218,  0.0590,\n",
      "         -0.1120, -0.0040,  0.0507, -0.1105,  0.0749,  0.0133, -0.0161,  0.0548,\n",
      "         -0.0259,  0.0807, -0.0553, -0.0689, -0.0899,  0.0786,  0.1113,  0.0046,\n",
      "          0.1147,  0.0686,  0.0904, -0.0996, -0.0171,  0.0572,  0.0963,  0.0732],\n",
      "        [ 0.1188,  0.1249,  0.0270,  0.0900, -0.0223, -0.0640,  0.0127, -0.0244,\n",
      "          0.0927,  0.0727, -0.0932, -0.1187, -0.0969, -0.0240, -0.0252,  0.0542,\n",
      "         -0.0024,  0.0098,  0.0332, -0.0385,  0.0535,  0.0217,  0.0482, -0.0891,\n",
      "          0.0434,  0.0565, -0.0370, -0.0541,  0.0335, -0.0351, -0.0642, -0.1232,\n",
      "         -0.0244, -0.1088,  0.0427, -0.0655, -0.0933,  0.0833,  0.0784,  0.0923,\n",
      "          0.1246, -0.0208, -0.0144,  0.1175, -0.0354,  0.0760,  0.0038,  0.0577,\n",
      "          0.1222,  0.1246, -0.0431,  0.0626,  0.0577, -0.0086, -0.1239, -0.0988,\n",
      "         -0.0334, -0.0812,  0.1014,  0.1079,  0.0846, -0.1206, -0.0529,  0.0299],\n",
      "        [-0.1008,  0.1057, -0.1125, -0.0659,  0.1201, -0.0423, -0.0071,  0.1246,\n",
      "          0.0661,  0.1132, -0.0138, -0.1238, -0.0231,  0.0654, -0.0820,  0.0942,\n",
      "         -0.0231, -0.1208,  0.0337, -0.0209, -0.1000, -0.1075, -0.0103,  0.0851,\n",
      "          0.0940, -0.0449,  0.0569, -0.0765, -0.0560,  0.0396, -0.0278,  0.0552,\n",
      "          0.0122,  0.0713,  0.1248,  0.0274, -0.0082, -0.0897, -0.0945,  0.0707,\n",
      "         -0.0863, -0.0313,  0.0075, -0.0574,  0.0657, -0.0507, -0.0186,  0.0069,\n",
      "         -0.1058,  0.0964,  0.0162, -0.0178, -0.0129,  0.0237, -0.0017,  0.0868,\n",
      "         -0.0746,  0.0071, -0.0950,  0.1043, -0.0342, -0.0991, -0.0489, -0.0332]],\n",
      "       requires_grad=True), Parameter containing:\n",
      "tensor([-0.0496,  0.0328,  0.1237,  0.0567,  0.0334,  0.0637,  0.0639, -0.0371,\n",
      "         0.0948, -0.0103], requires_grad=True)]\n"
     ]
    }
   ],
   "source": [
    "# TODO: Create the network, define the criterion and optimizer\n",
    "model = Classifier()\n",
    "print(list(model.parameters()))"
   ]
  },
  {
   "cell_type": "code",
   "execution_count": 25,
   "metadata": {},
   "outputs": [],
   "source": [
    "criterion = nn.NLLLoss()\n",
    "optimizer = optim.SGD(model.parameters(), lr = 0.003)"
   ]
  },
  {
   "cell_type": "code",
   "execution_count": 26,
   "metadata": {},
   "outputs": [
    {
     "name": "stdout",
     "output_type": "stream",
     "text": [
      "Training loss: 2.13386084542854\n",
      "Training loss: 1.2510359490604035\n",
      "Training loss: 0.8050704490083621\n",
      "Training loss: 0.6793777945199246\n",
      "Training loss: 0.6184414262964781\n"
     ]
    }
   ],
   "source": [
    "# TODO: Train the network here\n",
    "epochs = 5\n",
    "\n",
    "for e in range(epochs):\n",
    "    running_loss = 0\n",
    "    \n",
    "    \n",
    "    for images, labels in trainloader:\n",
    "        optimizer.zero_grad()\n",
    "        \n",
    "        output = model.forward(images)\n",
    "        loss = criterion(output, labels)\n",
    "        \n",
    "        loss.backward()\n",
    "        optimizer.step()\n",
    "        \n",
    "        running_loss += loss.item()\n",
    "    else:\n",
    "        print(f\"Training loss: {running_loss/len(trainloader)}\")"
   ]
  },
  {
   "cell_type": "code",
   "execution_count": 30,
   "metadata": {},
   "outputs": [
    {
     "data": {
      "image/png": "[encoded data removed]",
      "text/plain": [
       "<Figure size 432x648 with 2 Axes>"
      ]
     },
     "metadata": {
      "image/png": {
       "height": 216,
       "width": 424
      },
      "needs_background": "light"
     },
     "output_type": "display_data"
    }
   ],
   "source": [
    "%matplotlib inline\n",
    "%config InlineBackend.figure_format = 'retina'\n",
    "\n",
    "import helper\n",
    "\n",
    "# Test out your network!\n",
    "\n",
    "dataiter = iter(testloader)\n",
    "images, labels = dataiter.next()\n",
    "img = images[0]\n",
    "# Convert 2D image to 1D vector\n",
    "img = img.resize_(1, 784)\n",
    "\n",
    "# TODO: Calculate the class probabilities (softmax) for img\n",
    "ps = torch.exp(model(img))\n",
    "\n",
    "# Plot the image and probabilities\n",
    "helper.view_classify(img.resize_(1, 28, 28), ps, version='Fashion')"
   ]
  },
  {
   "cell_type": "code",
   "execution_count": null,
   "metadata": {},
   "outputs": [],
   "source": []
  }
 ],
 "metadata": {
  "kernelspec": {
   "display_name": "Python 3",
   "language": "python",
   "name": "python3"
  },
  "language_info": {
   "codemirror_mode": {
    "name": "ipython",
    "version": 3
   },
   "file_extension": ".py",
   "mimetype": "text/x-python",
   "name": "python",
   "nbconvert_exporter": "python",
   "pygments_lexer": "ipython3",
   "version": "3.8.3"
  }
 },
 "nbformat": 4,
 "nbformat_minor": 2
}
